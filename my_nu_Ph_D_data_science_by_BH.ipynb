{
  "cells": [
    {
      "cell_type": "markdown",
      "metadata": {
        "id": "view-in-github",
        "colab_type": "text"
      },
      "source": [
        "<a href=\"https://colab.research.google.com/github/bbe2/GWG-Test/blob/main/my_nu_Ph_D_data_science_by_BH.ipynb\" target=\"_parent\"><img src=\"https://colab.research.google.com/assets/colab-badge.svg\" alt=\"Open In Colab\"/></a>"
      ]
    },
    {
      "cell_type": "markdown",
      "source": [
        "# `I. brian.hogan.ph.d.corpus @nu` \n",
        "\n",
        "\n",
        "\n"
      ],
      "metadata": {
        "id": "ul37AYXmwCT5"
      },
      "id": "ul37AYXmwCT5"
    },
    {
      "cell_type": "markdown",
      "source": [
        "* `student.id: `  , b.hogan@snhu.edu  \n",
        "* `Professors! interactive experience overview"
      ],
      "metadata": {
        "id": "f-vVTc4wEbuj"
      },
      "id": "f-vVTc4wEbuj"
    },
    {
      "cell_type": "markdown",
      "id": "ae5e0bfd",
      "metadata": {
        "id": "ae5e0bfd"
      },
      "source": [
        "## **`II. Sustainable learning infrastructures`**  "
      ]
    },
    {
      "cell_type": "markdown",
      "source": [
        "1. Phone screen flipping has caused all kinds of damage to young learners. Perhaps get more research on but in the classroom i countermand with active learning moments with information transparency and interactive structures.\n",
        "\n",
        "2. Student JAMs (crowdsource modeling) get students working together, solving challenges, and scaffolding amongst each other (festooning) to generate content.\n",
        "\n",
        "3. I maintain a massive corpus of scientific articles, code, definitions, methods, readings, and videos. Any, my doctoral work.\n",
        "\n",
        "4. My doctoral dissertation focus on words and using data science to prove the learning efficacy. This all comes from writing courses full of vapor ware and thoughts vs production learning with pillars of reinforcement and adaptive learning sustainability.\n",
        "\n",
        "5. Thank you for learning this experience and supporting it by commenting inside colab. Everything is here. all pdfs. turn it in incomes, api connecttions to kline or methosd using all supervised and unsupervised algorithms to assess outcomes and GINI score indexing for effectiveness.\n",
        "\n",
        "6. `R software` integration and methods as warranted."
      ],
      "metadata": {
        "id": "XjmXJFfytqht"
      },
      "id": "XjmXJFfytqht"
    },
    {
      "cell_type": "markdown",
      "metadata": {
        "id": "wvEd8gEOCMbG"
      },
      "source": [
        "## **`III. Statement of File Accessbility and Use.ability`**  \n"
      ],
      "id": "wvEd8gEOCMbG"
    },
    {
      "cell_type": "markdown",
      "source": [
        "<pre>\n",
        "> Everything built on vertical monitors  \n",
        ">> Please reconfigure screens to absorb information correctly\n",
        ">>> happy to provide scientific research if interested\n",
        "</pre>"
      ],
      "metadata": {
        "id": "4CQ9AYyBCobc"
      },
      "id": "4CQ9AYyBCobc"
    },
    {
      "cell_type": "markdown",
      "source": [
        "#\n",
        "<pre> start course.outcomes\n",
        "\n",
        "----------------------\n",
        "\n"
      ],
      "metadata": {
        "id": "jLGPvV5WEPNa"
      },
      "id": "jLGPvV5WEPNa"
    },
    {
      "cell_type": "markdown",
      "source": [
        "----------\n",
        "# **`Course: TIM.8520`** \n",
        "##`Inferential and Predictive Analysis`\n",
        "----------"
      ],
      "metadata": {
        "id": "EJgcPnII9jGu"
      },
      "id": "EJgcPnII9jGu"
    },
    {
      "cell_type": "markdown",
      "source": [
        "## locations and build dates\n",
        "|  .what   | .details  |  \n",
        "|--------- |---------- |  \n",
        "|   course |  TIM.8520 |  \n",
        "| Brian.Hogan  | b.hogan@snhu.edu  |  \n",
        "| outcome.HOME  | [brian_github](https://github.com/bbe2/Ph.D.data.science) |\n",
        "| workspace | [hogan.interactive.workspace](https://docs.google.com/spreadsheets/d/1h9O2TxODB_9l8fCbWSR5cm786666he5qXrf7zKhmxa8/edit?usp=share_link) |\n",
        "\n",
        "-------------\n",
        "*  Date | 05.09.23 (bh)\n",
        "*  date | 04.30.23 (bh)\n",
        "*  date | 04.23.23 (bh)"
      ],
      "metadata": {
        "id": "oWeqzopm5uf8"
      },
      "id": "oWeqzopm5uf8"
    },
    {
      "cell_type": "markdown",
      "id": "58d7a046",
      "metadata": {
        "id": "58d7a046"
      },
      "source": [
        "## **`Lesson.1.TIM.8520`**"
      ]
    },
    {
      "cell_type": "markdown",
      "id": "ced31bd4",
      "metadata": {
        "id": "ced31bd4"
      },
      "source": [
        "## Lesson Answer (draft)"
      ]
    },
    {
      "cell_type": "markdown",
      "id": "d8ef1c65",
      "metadata": {
        "id": "d8ef1c65"
      },
      "source": [
        "Memo to COO of Bundy Shoes:  \n",
        "Re: Forecasting Female Shoe Inventory for Canada  \n",
        "\n",
        "**`Introduction`**  \n",
        "As a senior data analyst at Bundy Shoes, I have conducted a detailed analysis of Canada's female shoe inventory data to forecast the inventory for next year. The data covers the period from January 2014 to December 2017 with fields such as date, country, product ID, shop, gender, size, unit price, discount, year, month, and sale price.  \n",
        "\n",
        "**`Recommendations`**\n",
        "- Combine the ordering and warehousing inventory for stores CAN6 and CAN7 into a single warehouse.  \n",
        "- Adjust the inventory numbers for various shoe sizes based on the confidence intervals calculated.  \n",
        "- Monitor the sales data regularly and adjust the inventory levels accordingly to ensure optimal stock levels.  \n",
        "\n",
        "**`Methods`** \n",
        "The dataset contains information on six years of Canadian shoe sales analyzed to identify trends and patterns to forecast inventory. An inferential analysis, or statisticsl technique of a population based on sample sales data, provides a confidence level in the recommendations made. The resulting sales variance is significant indicating a greater level of uncertainty in the predictions made.  \n",
        "\n",
        "**`finishing here`**  \n",
        "Confidence intervals assessed store inventory numbers by 12 show sizes. Confidence intervals help to provide a range of values within which I can be confident that the true population parameter lies. I calculated the confidence intervals within a population with a known variance to identify the appropriate inventory numbers for the following year.  \n",
        "\n",
        "Outcomes support combining the ordering and warehousing inventory for stores CAN6 and CAN7 into a single warehouse by using the confidence intervals to predict inventory numbers  \n",
        "\n",
        "**`Conclusion`**\n",
        "In conclusion, the analysis provides valuable insights into the female shoe inventory in Canada.The recommendations will hellp optimize inventory levels and ensure that Bundy Shoes can meet customer demand effectively. The data suits project objectives as it effective predicted the following years inventory.  \n",
        "\n",
        "**`Limitations`**\n",
        "\n",
        "**`Graphics`**"
      ]
    },
    {
      "cell_type": "code",
      "execution_count": null,
      "id": "5f2f5f18",
      "metadata": {
        "id": "5f2f5f18"
      },
      "outputs": [],
      "source": [
        "# Delimiters types: ```, \"\"\", < >, `<tag> </tag>`, `:`\n",
        "import openai\n",
        "import os\n",
        "import openai\n",
        "import numpy as np\n",
        "import pandas as pd\n",
        "import matplotlib\n",
        "import pandas as pd\n",
        "from scipy import stats\n",
        "from ipython import display\n",
        "\n",
        "from dotenv import load_dotenv, find_dotenv\n",
        "_ = load_dotenv(find_dotenv())\n",
        "os.environ[\"OPENAI_API_KEY\"] = \"sk-DcA\n",
        "openai.api_key  = os.getenv('OPENAI_API_KEY')\n",
        "print(\"done\")"
      ]
    },
    {
      "cell_type": "markdown",
      "id": "52baa4d7",
      "metadata": {
        "id": "52baa4d7"
      },
      "source": [
        "## Professor need to debug the image code here then all set "
      ]
    },
    {
      "cell_type": "code",
      "execution_count": null,
      "id": "93577729",
      "metadata": {
        "id": "93577729"
      },
      "outputs": [],
      "source": [
        "#display.image('https://github.com/bbe2/Ph.D.data.science/blob/main/knime.1.JPG')"
      ]
    },
    {
      "cell_type": "code",
      "execution_count": null,
      "id": "4280a50f",
      "metadata": {
        "id": "4280a50f"
      },
      "outputs": [],
      "source": [
        "#![convert notebook to web app](https://github.com/bbe2/Ph.D.data.science/blob/main/knime.1.JPG)\n",
        "#<img src=\"https://github.com/bbe2/Ph.D.data.science/blob/main/knime.2.JPG\" alt=\"graphic.2\" />"
      ]
    },
    {
      "cell_type": "markdown",
      "id": "9ed1b776",
      "metadata": {
        "id": "9ed1b776"
      },
      "source": [
        "https://github.com/bbe2/Ph.D.data.science/blob/main/knime.1.JPG  \n",
        "https://github.com/bbe2/Ph.D.data.science/blob/main/knime.2.JPG   "
      ]
    },
    {
      "cell_type": "code",
      "source": [],
      "metadata": {
        "id": "i6XE7vknGme1"
      },
      "id": "i6XE7vknGme1",
      "execution_count": null,
      "outputs": []
    },
    {
      "cell_type": "markdown",
      "id": "4c16875d",
      "metadata": {
        "id": "4c16875d"
      },
      "source": [
        "https://github.com/bbe2/Ph.D.data.science/blob/main/knime.3.JPG  "
      ]
    },
    {
      "cell_type": "code",
      "execution_count": null,
      "id": "e9a0a463",
      "metadata": {
        "id": "e9a0a463"
      },
      "outputs": [],
      "source": [
        "# Read the CSV file into a pandas DataFrame\n",
        "df = pd.read_csv('https://raw.githubusercontent.com/bbe2/Ph.D.data.science/main/L1_data_2.csv')\n",
        "\n",
        "# Filter the data to include only Canadian sales of female shoes\n",
        "can_female_df = df[(df['Country'] == 'Canada') & (df['Gender'] == 'Female')]\n",
        "\n",
        "# Calculate the mean and standard deviation of the SalePrice for each shop\n",
        "shop6_mean = can_female_df[can_female_df['Shop'] == 'CAN6']['SalePrice'].mean()\n",
        "shop6_std = can_female_df[can_female_df['Shop'] == 'CAN6']['SalePrice'].std()\n",
        "\n",
        "shop7_mean = can_female_df[can_female_df['Shop'] == 'CAN7']['SalePrice'].mean()\n",
        "shop7_std = can_female_df[can_female_df['Shop'] == 'CAN7']['SalePrice'].std()\n",
        "\n",
        "# Perform a two-sample t-test to determine if the means of the SalePrice for each shop are significantly different\n",
        "t_stat, p_value = stats.ttest_ind(can_female_df[can_female_df['Shop'] == 'CAN6']['SalePrice'],\n",
        "                                  can_female_df[can_female_df['Shop'] == 'CAN7']['SalePrice'])\n",
        "\n",
        "# Print results\n",
        "print(f'The mean SalePrice for CAN6 is {shop6_mean:.2f} (standard deviation {shop6_std:.2f})')\n",
        "print(f'The mean SalePrice for CAN7 is {shop7_mean:.2f} (standard deviation {shop7_std:.2f})')\n",
        "print(f'The t-statistic for the two-sample t-test is {t_stat:.2f} with a p-value of {p_value:.2f}')\n",
        "\n",
        "# Determine if the means of the SalePrice for each shop are significantly different at the 95% confidence level\n",
        "if p_value < 0.05:\n",
        "    print('The means of the SalePrice for CAN6 and CAN7 are significantly different at the 95% confidence level.')\n",
        "    print('It may not make sense to combine inventory for both stores.')\n",
        "else:\n",
        "    print('The means of the SalePrice for CAN6 and CAN7 are not significantly different at the 95% confidence level.')\n",
        "    print('It may make sense to combine inventory for both stores.')\n"
      ]
    },
    {
      "cell_type": "markdown",
      "id": "dd60f750",
      "metadata": {
        "id": "dd60f750"
      },
      "source": [
        "### References  \n",
        "\n",
        "\n",
        "References\n",
        "Mou, J., & Wang, S. (2023). Value-Added Service for Fashion Product Supply Chain with Overseas Warehouse Logistics Outsourcing. Mathematical Problems in Engineering, 1–14. https://doi.org/10.1155/2023/8798358; b.h.github.library:\n",
        "\n",
        "Tzu-An Chiang, Zhen-Hua Che, & Chao-Wei Hung. (2023). A K-Means Clustering and the Prim’s Minimum Spanning Tree-Based Optimal Picking-List Consolidation and Assignment Methodology for Achieving the Sustainable Warehouse Operations. Sustainability, 15(3544), 3544. https://doi.org/10.3390/su15043544"
      ]
    },
    {
      "cell_type": "markdown",
      "source": [],
      "metadata": {
        "id": "uqTl8Tt5Givg"
      },
      "id": "uqTl8Tt5Givg"
    },
    {
      "cell_type": "markdown",
      "source": [
        "----------\n",
        "# **`Course: TIM.xxxx`** \n",
        "##` title = `\n",
        "----------"
      ],
      "metadata": {
        "id": "K1PRRx-naWqK"
      },
      "id": "K1PRRx-naWqK"
    },
    {
      "cell_type": "markdown",
      "source": [
        "## locations and build dates\n",
        "|  .what   | .details  |  \n",
        "|--------- |---------- |  \n",
        "|   course |  TIM.8520 |  \n",
        "| Brian.Hogan  | b.hogan@snhu.edu  |  \n",
        "| outcome.HOME  | [brian_github](https://github.com/bbe2/Ph.D.data.science) |\n",
        "| workspace | [hogan.interactive.workspace](https://docs.google.com/spreadsheets/d/1h9O2TxODB_9l8fCbWSR5cm786666he5qXrf7zKhmxa8/edit?usp=share_link) |\n",
        "\n",
        "-------------\n",
        "*  Date | \n"
      ],
      "metadata": {
        "id": "mDX9BAKZaWqt"
      },
      "id": "mDX9BAKZaWqt"
    },
    {
      "cell_type": "markdown",
      "metadata": {
        "id": "uHCxVnsPaWqu"
      },
      "source": [
        "## **`Lesson.1.TIM.8520`**"
      ],
      "id": "uHCxVnsPaWqu"
    },
    {
      "cell_type": "markdown",
      "metadata": {
        "id": "v8PVqfeTaWqv"
      },
      "source": [
        "## L1.task.1\n",
        "\n"
      ],
      "id": "v8PVqfeTaWqv"
    },
    {
      "cell_type": "markdown",
      "metadata": {
        "id": "P6egY6LeaWqw"
      },
      "source": [
        "Memo to COO of Bundy Shoes:  \n",
        "Re: Forecas\n",
        "\n",
        "\n",
        "*   List item\n",
        "*   List item\n",
        "\n",
        "\n",
        "\n",
        "* **`Introduction`**  \n",
        "As a senior dat\n",
        "\n",
        "* **`Recommendations`**\n",
        "- Combine the order\n",
        "\n",
        "* **`Methods`** \n",
        "The dataset contains in\n",
        "\n",
        "* **`Outcomes`**  \n",
        "Confidence intervals assessed store inven\n",
        "\n",
        "* **`Conclusion`**\n",
        "In conclusion,  \n",
        "\n",
        "* **`Limitations`**\n",
        " \n",
        "* **`Graphics`**"
      ],
      "id": "P6egY6LeaWqw"
    },
    {
      "cell_type": "code",
      "execution_count": null,
      "metadata": {
        "id": "xYJSGxVeaWqy"
      },
      "outputs": [],
      "source": [
        "# Delimiters types: ```, \"\"\", < >, `<tag> </tag>`, `:`\n",
        "import openai\n",
        "import os\n",
        "import openai\n",
        "import numpy as np\n",
        "import pandas as pd\n",
        "import matplotlib\n",
        "import pandas as pd\n",
        "from scipy import stats\n",
        "from ipython import display\n",
        "\n",
        "from dotenv import load_dotenv, find_dotenv\n",
        "_ = load_dotenv(find_dotenv())\n",
        "os.environ[\"OPENAI_API_KEY\"] = \"sk-DcA\n",
        "openai.api_key  = os.getenv('OPENAI_API_KEY')\n",
        "print(\"done\")"
      ],
      "id": "xYJSGxVeaWqy"
    },
    {
      "cell_type": "markdown",
      "metadata": {
        "id": "B7kKyiCmaWq0"
      },
      "source": [
        "## task 1.3"
      ],
      "id": "B7kKyiCmaWq0"
    },
    {
      "cell_type": "code",
      "execution_count": null,
      "metadata": {
        "id": "9fTgiafhaWq1"
      },
      "outputs": [],
      "source": [
        "#display.image('https://github.com/bbe2/Ph.D.data.science/blob/main/knime.1.JPG')"
      ],
      "id": "9fTgiafhaWq1"
    },
    {
      "cell_type": "markdown",
      "metadata": {
        "id": "oenEOHDUaWq-"
      },
      "source": [
        "### References  \n",
        "\n",
        "\n",
        "References\n",
        "Mou, J., & Wang, S. (2023). Value-Added Service for Fashion Product Supply Chain with Overseas Warehouse Logistics Outsourcing. Mathematical Problems in Engineering, 1–14. https://doi.org/10.1155/2023/8798358; b.h.github.library:\n",
        "\n",
        "Tzu-An Chiang, Zhen-Hua Che, & Chao-Wei Hung. (2023). A K-Means Clustering and the Prim’s Minimum Spanning Tree-Based Optimal Picking-List Consolidation and Assignment Methodology for Achieving the Sustainable Warehouse Operations. Sustainability, 15(3544), 3544. https://doi.org/10.3390/su15043544"
      ],
      "id": "oenEOHDUaWq-"
    },
    {
      "cell_type": "markdown",
      "source": [],
      "metadata": {
        "id": "HvpbBwiEaWq-"
      },
      "id": "HvpbBwiEaWq-"
    },
    {
      "cell_type": "markdown",
      "source": [
        "----------\n",
        "# `how.To.markup`\n",
        "`& misc.colab.tooling` (tips, tricks, format, referencing)\n",
        "\n",
        "----------\n",
        "\n"
      ],
      "metadata": {
        "id": "OqfKM6DbBmjo"
      },
      "id": "OqfKM6DbBmjo"
    },
    {
      "cell_type": "markdown",
      "source": [
        "**howTo.index**\n",
        "- 0.1.how.To.formatting  \n",
        "- 0.2.how.To.LaTex.math.equation  \n",
        "- 0.3.how.To.image\n",
        "- 0.4.how.To.\n",
        "- 0.5.how.To.bullet\n",
        "- 0.99.howTo.Bibliofile"
      ],
      "metadata": {
        "id": "DJhs1WK5CF8w"
      },
      "id": "DJhs1WK5CF8w"
    },
    {
      "cell_type": "markdown",
      "source": [
        "## `0.1.howTo.Formatting`"
      ],
      "metadata": {
        "id": "JtZxGEurFde8"
      },
      "id": "JtZxGEurFde8"
    },
    {
      "cell_type": "markdown",
      "source": [
        "### `backslash escape`\n",
        "\n"
      ],
      "metadata": {
        "id": "0bd5cJphFoYF"
      },
      "id": "0bd5cJphFoYF"
    },
    {
      "cell_type": "markdown",
      "source": [
        "What happens if you want to include a literal character, like a #, that usually has a specific function in Markdown? Backslash Escape is a function that prevents Markdown from interpreting a character as an instruction, rather than as the character itself. It works like this:"
      ],
      "metadata": {
        "id": "gaWrfwcgFiDc"
      },
      "id": "gaWrfwcgFiDc"
    },
    {
      "cell_type": "markdown",
      "source": [
        "<pre>\n",
        "\\# Wow, this isn't a header. \n",
        "# This is definitely a header.\n",
        "</pre>"
      ],
      "metadata": {
        "id": "yYOfQEswFkcF"
      },
      "id": "yYOfQEswFkcF"
    },
    {
      "cell_type": "markdown",
      "source": [
        "## `0.2.howto.LaTex.math.equation`"
      ],
      "metadata": {
        "id": "hz0Le1owF-1V"
      },
      "id": "hz0Le1owF-1V"
    },
    {
      "cell_type": "markdown",
      "source": [
        "Notebook markdown support LaTex for formatting math equations\n",
        " To tell Markdown to interpret your text as LaTex, surround your  \n",
        "\n",
        "0.. surround w (dollarsign) sign  \n",
        "    0.1 use $$ to indent  \n",
        "1.. (dollarsign) z=\\dfrac{2x}{3y}(dollarsign)  \n",
        "2.. (dollarsign) F(k) = \\int_{-\\infty}^{\\infty} f(x) e^{2\\pi i k} dx$    \n",
        "3.. (dollarsign)(dollarsign) 2x+3y=z (dollarsign)(dollarsign)  "
      ],
      "metadata": {
        "id": "JagCgb14GCgD"
      },
      "id": "JagCgb14GCgD"
    },
    {
      "cell_type": "markdown",
      "source": [
        "$z=\\dfrac{2x}{3y}$"
      ],
      "metadata": {
        "id": "W6xD6kLlGMHU"
      },
      "id": "W6xD6kLlGMHU"
    },
    {
      "cell_type": "markdown",
      "source": [
        "$F(k) = \\int_{-\\infty}^{\\infty} f(x) e^{2\\pi i k} dx$"
      ],
      "metadata": {
        "id": "Ah86WI51G56U"
      },
      "id": "Ah86WI51G56U"
    },
    {
      "cell_type": "markdown",
      "source": [
        "$$2x+3y=z$$"
      ],
      "metadata": {
        "id": "nf07Hm--IvYb"
      },
      "id": "nf07Hm--IvYb"
    },
    {
      "cell_type": "markdown",
      "source": [
        "## `0.3 how.To.image`\n"
      ],
      "metadata": {
        "id": "Nq39C8blqZAA"
      },
      "id": "Nq39C8blqZAA"
    },
    {
      "cell_type": "markdown",
      "source": [],
      "metadata": {
        "id": "ZjVwapXN_3gU"
      },
      "id": "ZjVwapXN_3gU"
    },
    {
      "cell_type": "markdown",
      "source": [
        "## `0.4 how.To.bullet`"
      ],
      "metadata": {
        "id": "QDLNPsbFb4le"
      },
      "id": "QDLNPsbFb4le"
    },
    {
      "cell_type": "markdown",
      "source": [
        "1. Markdown interprets whole list as unordered and will use bullets regardless of the characters before any individual list item.\n",
        "2. **`+`**, a **` - `**, or a **`*`**"
      ],
      "metadata": {
        "id": "4kWuPIPjcAZ9"
      },
      "id": "4kWuPIPjcAZ9"
    },
    {
      "cell_type": "markdown",
      "source": [
        "<pre>\n",
        "####Groceries:\n",
        "\n",
        "* Fruit:\n",
        "    * Pears\n",
        "    0. Peaches\n",
        "    3. Plums\n",
        "    4. Apples \n",
        "        - Granny Smith \n",
        "        7. Gala\n",
        "    * Oranges\n",
        "    - Berries \n",
        "        - Strawberries \n",
        "        + Blueberries\n",
        "        * Raspberries\n",
        "    - Bananas\n",
        "9. Bread:\n",
        "    * Whole Wheat\n",
        "        * With oats on crust\n",
        "        0. Without oats on crust\n",
        "    + Rye \n",
        "    0. White\n",
        "0. Dairy:\n",
        "    * Milk\n",
        "        + Whole\n",
        "        0. Skim\n",
        "    - Cheese\n",
        "        - Wisconsin Cheddar\n",
        "        0. Pepper Jack\n",
        "        </pre>"
      ],
      "metadata": {
        "id": "XKyKynp8cv8S"
      },
      "id": "XKyKynp8cv8S"
    },
    {
      "cell_type": "markdown",
      "source": [
        "####Groceries:\n",
        "\n",
        "* Fruit:\n",
        "    * Pears\n",
        "    0. Peaches\n",
        "    3. Plums\n",
        "    4. Apples \n",
        "        - Granny Smith \n",
        "        7. Gala\n",
        "    * Oranges\n",
        "    - Berries \n",
        "        - Strawberries \n",
        "        + Blueberries\n",
        "        * Raspberries\n",
        "    - Bananas\n",
        "9. Bread:\n",
        "    * Whole Wheat\n",
        "        * With oats on crust\n",
        "        0. Without oats on crust\n",
        "    + Rye \n",
        "    0. White\n",
        "0. Dairy:\n",
        "    * Milk\n",
        "        + Whole\n",
        "        0. Skim\n",
        "    - Cheese\n",
        "        - Wisconsin Cheddar\n",
        "        0. Pepper Jack"
      ],
      "metadata": {
        "id": "GvP9Q7R8b8TN"
      },
      "id": "GvP9Q7R8b8TN"
    },
    {
      "cell_type": "markdown",
      "metadata": {
        "id": "zw6rLPRAHl4d"
      },
      "source": [
        "## `0.99.howTo.Bibliofile`"
      ],
      "id": "zw6rLPRAHl4d"
    },
    {
      "cell_type": "markdown",
      "metadata": {
        "id": "T84gdusHHl4d"
      },
      "source": [
        "Bibliographic Support makes managing references and citations in your Notebook much easier, by automating some of the bibliographic process every person goes through when doing research or writing in an academic context. There are essentially three steps to this process for which your Notebook's Bibliographic support can assist: gathering and organizing sources you intend to use, citing those sources within the text you are writing, and compiling all of the material you referenced in an organized, correctly formatted list, the kind which usually appears at the end of a paper in a section titled \"References,\" \"Bibliography,\" or \"Works Cited. \n",
        "\n",
        "In order to benefit from this functionality, you need to do two things while writing your paper: first, you need to create a [Bibtex database][bibdb] of information about your sources and second, you must use the the [cite command][cc] in your Markdown writing cells to indicate where you want in-text citations to appear.\n",
        "\n",
        "If you do both these things, the \"Generate References\" button will be able to do its job by replacing all of your cite commands with validly formatted in-text citations and creating a References section at the end of your document, which will only ever include the works you specifically cited within in your Notebook. \n",
        "\n",
        "**Note:** References are generated without a header cell, just a [markdown header][]. This means that if you want a References section to appear in your table of contents, you will have to unrender the References cell, delete the \"References\" header, make a Header Cell of the appropriate level and title it \"References\" yourself, and then generate a table of contents using [Table of Contents Support][table of contents]. This way, you can also title your References section \"Bibliography\" or \"Works Cited,\" if you want.\n",
        "\n",
        "[markdown header]: #4.1.3-Headers\n",
        "[table of contents]: #2.4.2.2-Table-of-Contents-Support\n",
        "[bibdb]: #5.1-Creating-a-Bibtex-Database\n",
        "[cc]:#5.2-Cite-Commands-and-Citation-IDs\n",
        "\n",
        "\n"
      ],
      "id": "T84gdusHHl4d"
    },
    {
      "cell_type": "markdown",
      "metadata": {
        "id": "bPwdoxRTHl4d"
      },
      "source": [
        "### `1.99 Creating a Bibtex Database`"
      ],
      "id": "bPwdoxRTHl4d"
    },
    {
      "cell_type": "markdown",
      "metadata": {
        "id": "clAnJ1JYHl4d"
      },
      "source": [
        "Bibtex is reference management software for formatting lists of references ([from Wikipedia](BibTeX is reference management software for formatting lists of references \"Wikipedia Article On Bibtex\")). While your Notebook does not use the Bibtex software, it does use [Bibtex formatting](#5.1.3-Formatting-Bibtex-Entries) for creating references within your Bibliographic database.\n",
        "\n",
        "In order for the Generate References button to work, you need a bibliographic database for it to search and match up with the sources you've indicated you want to credit using [cite commands and citation IDs](#5.2-Cite-Commands-and-Citation-IDs).\n",
        "\n",
        "When creating a bibliographic database for your Notebook, you have two options: you can make an external database, which will exist in a separate Notebook from the one you are writing in, or you can make an internal database which will exist in a single cell inside the Notebook in which you are writing. Below are explanations of how to use these database creation strategies, as well as a discussion of the pros and cons for each. "
      ],
      "id": "clAnJ1JYHl4d"
    },
    {
      "cell_type": "markdown",
      "metadata": {
        "id": "K8uZs8sVHl4d"
      },
      "source": [
        "#### `1.99.1 External Bibliographic Databases`"
      ],
      "id": "K8uZs8sVHl4d"
    },
    {
      "cell_type": "markdown",
      "metadata": {
        "id": "r4-6sszjHl4d"
      },
      "source": [
        "To create an external bibliographic database, you will need to create a new Notebook and title it **`Bibliography`** in the toplevel folder of your current Jupyter session. As long as you do not also have an internal bibliographic database, when you click the Generate References button your Notebook's Bibliographic Support will search this other **`Bibliography`** Notebook for Bibtex entries. Bibtex entries can be in any cell and in any kind of cell in your **`Bibliography`** Notebook as long as the cell begins with **`<!--bibtex`** and ends with **`-->`**. Go to [this section][bibfor] for examples of valid BibTex formatting.\n",
        "\n",
        "Not every cell has to contain BibTex entries for the external bibliographic database to work as intended with your Notebook's bibliographic support. This means you can use the same helpful organization features that you use in other Notebooks, like [Automatic Section Numbering][asn] and [Table of Contents Support][toc], to structure your own little library of references. The best part of this is that any Notebook containing validly formatted [cite commands][cc] can check your external database and find only the items that you have indicated you want to cite. So you only ever have to make the entry once and your external database can grow large and comprehensive over the course of your accademic writing career. \n",
        "\n",
        "There are several advantages to using an external database over [an internal one][internal database]. The biggest one, which has already been described, is that you will only ever need to create one and you can organize it into sections by using headers and generating [automatic section numbers][asn] and a [table of contents][toc]. These tools will help you to easily find the right [citation ID][cc] for a given source you want to cite. The other major advantage is that an external database is not visible when viewing the Notebook in which you are citing sources and generating a References list. Bibtex databases are not very attractive or readable and you probably won't want one to show up in your finished document. There are [ways to hide internal databases][hiding bibtex cell], but it's convenient not to have to worry about that. \n",
        "\n",
        "\n",
        "[asn]: #2.4.2.1-Automatic-Section-Numbering\n",
        "[toc]: #2.4.2.2-Table-of-Contents-Support\n",
        "[cc]: #5.2-Cite-Commands-and-Citation-IDs\n",
        "[hiding bibtex cell]: #5.1.2.1-Hiding-Your-Internal-Database\n",
        "[bibfor]:#5.1.3-Formatting-Bibtex-Entries"
      ],
      "id": "r4-6sszjHl4d"
    },
    {
      "cell_type": "markdown",
      "metadata": {
        "id": "QsipSGc4Hl4d"
      },
      "source": [
        "#### `1.99.2 Internal Bibliographic Databases`"
      ],
      "id": "QsipSGc4Hl4d"
    },
    {
      "cell_type": "markdown",
      "metadata": {
        "id": "4VMZIznBHl4e"
      },
      "source": [
        "Unlike [external bibliographic databases][exd], which are comprised from an entire separate notebook, internal bibliographic databases consist of only one cell within in the Notebook in which you are citing sources and compiling a References list. The single cell, like all of the many BibTex cells that can make up an external database, must begin with **`<!--bibtex`** and end with **`-->`** in order to be validly formatted and correctly interpreted by your Notebook's Bibliographic Support. It's probably best to keep this cell at the very end or the very beginning of your Notebook so you always know where it is. This is because when you use an intenral bibliographic databse it can only consist of one cell. This means that if you want to cite multiple sources you will need to keep track of the single cell that comprises your entire internal bibliographic database during every step of the research and writing process. \n",
        "\n",
        "Internal bibliographic databases make more sense when your project is a small one and the list of total sources is short. This is especially convenient if you don't already have a built-up external database. With an internal database you don't have to create and organize a whole separate Notebook, a task that's only useful when you have to keep track of a lot of different material.  Additionally, if you want to share your finished Notebook with others in a form that retains its structural validity, you only have to send one Notebook, as oppose to both the project itself and the Notebook that comprises your external bibliographic database. This is especially useful for a group project, where you want to give another reader the ability to edit, not simply read, your References section. \n",
        "\n",
        "[exd]:#5.1.1-External-Bibliographic-Databases\n"
      ],
      "id": "4VMZIznBHl4e"
    },
    {
      "cell_type": "markdown",
      "metadata": {
        "id": "FOj0PZo9Hl4e"
      },
      "source": [
        "##### 5.1.2.1 Hiding Your Internal Database"
      ],
      "id": "FOj0PZo9Hl4e"
    },
    {
      "cell_type": "markdown",
      "metadata": {
        "id": "N7JnYjP2Hl4e"
      },
      "source": [
        "Even though they have some advantages, especially for smaller projects, internal databases have on major draw back. They are not very attractive or polished looking and you probably won't want one to appear in your final product. Fortunately, there are two methods for hiding your internal biblioraphic database.\n",
        "\n",
        "While your Notebook's bibliographic support will be able to interpret [correctly formatted BibTex entries][bibfor] in any [kind of cell][cell kind], if you use a [Markdown Cell][md cell] to store your internal bibliographic database, then when you run the cell all of the ugly BibTex formatting will disappear. This is handy, but it also makes the cell very difficult to find, so remember to keep careful track of where your hidden BibTex databse is if you're planning to edit it later. If you want your final product to be viewed stably as HTML, then you can make your internal BibTex database inside a [Raw Cell][RC], use the [cell toolbar][] to select \"Raw Cell Format\", and then select \"None\" in the toolbar that appears in the corner of your Raw Cell BibTex database. This way, you will still be able to easily find and edit the database when you are working on your Notebook, but others won't be able to see the database when viewing your project in its final form. \n",
        "\n",
        "\n",
        "[cell toolbar]: #1.-Getting-to-Know-your-Jupyter-Notebook's-Toolbar\n",
        "[bibfor]:#5.1.3-Formatting-Bibtex-Entries\n",
        "[RC]:#2.3-Raw-Cells\n",
        "[md cell]: #2.2-Markdown-Cells\n",
        "[cell kind]: #2.-Different-Kinds-of-Cells"
      ],
      "id": "N7JnYjP2Hl4e"
    },
    {
      "cell_type": "markdown",
      "metadata": {
        "id": "Y0ZeoAjbHl4e"
      },
      "source": [
        "#### `1.99.3 Formatting Bibtex Entries`"
      ],
      "id": "Y0ZeoAjbHl4e"
    },
    {
      "cell_type": "markdown",
      "metadata": {
        "id": "yS80QmieHl4g"
      },
      "source": [
        "BibTex entries consist of three crucial components: one, the type of source you are citing (a book, article, website, etc.); two, the unique [citation ID][cc] you wish to remember the source by; and three, the fields of information about that source (author, title of work, date of publication, etc.). Below is an example entry, with each of these three components designated clearly\n",
        "\n",
        "<pre>\n",
        "\n",
        "&lt;!--bibtex\n",
        "\n",
        "@ENTRY TYPE{CITATION ID,\n",
        "    FIELD 1 = {source specific information},\n",
        "    FIELD 2 = {source specific informatio},\n",
        "    FIEL 3 = {source specific informatio},\n",
        "    FIELD 4 = {source specific informatio}\n",
        "}\n",
        "\n",
        "-->\n",
        "\n",
        "</pre>\n",
        "\n",
        "More comprehensive documentation of what entry types and corresponding sets of required and optional fields BibTex supports can be found in the [Wikipedia article on BibTex][wikibibt].\n",
        "\n",
        "Below is a section of the external bibliographic database for a fake history paper about the fictional island nation of Calico. (None of the entries contain information about real books or articles):\n",
        "\n",
        "[cc]: #5.2-Cite-Commands-and-Citation-IDs\n",
        "[wikibibt]: http://en.wikipedia.org/wiki/Markdown\n",
        "\n",
        "\n"
      ],
      "id": "yS80QmieHl4g"
    },
    {
      "cell_type": "markdown",
      "metadata": {
        "id": "j4qn30K2Hl4g"
      },
      "source": [
        "<pre>\n",
        "\n",
        "&lt;!--bibtex\n",
        "\n",
        "@book{wellfarecut,\n",
        "    title = {Our Greatest Threat: The Rise of Anti-Wellfare Politics in Calico in the 21st Century},\n",
        "    author = {Jacob, Bernadette},\n",
        "    year = {2010},\n",
        "    publisher = {Jupyter University Press}\n",
        "}\n",
        "                  \n",
        "@article{militaryex2,\n",
        "    title = {Rethinking Calican Military Expansion for the New Century},\n",
        "    author = {Collier, Brian F.},\n",
        "    journal = {Modern Politics},\n",
        "    volume = {60},\n",
        "    issue = {25},\n",
        "    pages = {35 - 70},\n",
        "    year = {2012} \n",
        "}\n",
        "\n",
        "@article{militaryex1,\n",
        "    title = {Conservative Majority Passes Budget to Grow Military},\n",
        "    author = {Lane, Lois},\n",
        "    journal = {The Daily Calican},\n",
        "    month = {October 19th, 2011},\n",
        "    pages = {15 - 17},\n",
        "    year = {2011}\n",
        "}\n",
        "\n",
        "@article{oildrill,\n",
        "    title = {Oil Drilling Off the Coast of Jupyter Approved for Early Next Year},\n",
        "    author = {Marks, Meghan L.},\n",
        "    journal = {The Python Gazette},\n",
        "    month = {December 5th, 2012},\n",
        "    pages = {8 - 9},\n",
        "    year = {2012}\n",
        "}\n",
        "\n",
        "@article{rieseinterview,\n",
        "    title = {Interview with Up and Coming Freshman Senator, Alec Riese of Python},\n",
        "    author = {Wilmington, Oliver},\n",
        "    journal = {The Jupyter Times},\n",
        "    month = {November 24th, 2012},\n",
        "    pages = {4 - 7},\n",
        "    year = {2012}\n",
        "}\n",
        "\n",
        "@book{calicoww2:1,\n",
        "    title = {Calico and WWII: Untold History},\n",
        "    author = {French, Viola},\n",
        "    year = {1997},\n",
        "    publisher = {Calicia City Free Press}\n",
        "}\n",
        "\n",
        "@book{calicoww2:2,\n",
        "    title = {Rebuilding Calico After Japanese Occupation},\n",
        "    author = {Kepps, Milo },\n",
        "    year = {2002},\n",
        "    publisher = {Python Books}\n",
        "}\n",
        "-->\n",
        "</pre>"
      ],
      "id": "j4qn30K2Hl4g"
    },
    {
      "cell_type": "markdown",
      "metadata": {
        "id": "r4m8y-P4Hl4g"
      },
      "source": [
        "### `2.99 Cite Commands and Citation IDs`"
      ],
      "id": "r4m8y-P4Hl4g"
    },
    {
      "cell_type": "markdown",
      "metadata": {
        "id": "NoVitAOaHl4g"
      },
      "source": [
        "When you want to cite a bibliographic entry from a database (either internal or external), you must know the citation ID, sometimes called the \"key\", for that entry. Citation IDs are strings of letters, numbers, and symbols that *you* make up, so they can be any word or combination of words you find easy to remember. Once, you've given an entry a citation ID, however, you do need to use that same ID every time you cite that source, so it may behoove you to keep your database organized. This way it will be much easier to locate any given source's entry and its potentially forgotten citation ID. \n",
        "\n",
        "Once you know the citation ID for a given entry, use the following format to indicate to your Notebook's bibliographic support that you'd like to insert an in-text citation:\n",
        "\n",
        "<pre>\n",
        "[](&#35;cite-CITATION ID)\n",
        "</pre>\n",
        "\n",
        "This format is the cite command. For example, if you wanted to cite *Rebuilding Calico After Japanese Occupation* listed above, you would use the cite command and the specific citation ID for that source:\n",
        "\n",
        "<pre>\n",
        "[](&#35;cite-calicoww2:2)\n",
        "</pre>\n",
        "\n",
        "Before clicking the \"Generate References\" button, your unrendered text might look like this:\n",
        "\n",
        "\n",
        "<pre>\n",
        "Rebuilding Calico took many years &#91;](&#35;cite-calicoww2:2).\n",
        "</pre>\n",
        "\n",
        "\n",
        "After clicking the \"Generate References\" button, your unrendered text might look like this:\n",
        "\n",
        "\n",
        "<pre>\n",
        "Rebuilding Calico took many years &lt;a name=\"ref-1\"/>&#91;(Kepps, 2002)](#cite-calicoww2:2).\n",
        "</pre>\n",
        "\n",
        "\n",
        "and then the text would render as:\n",
        "\n",
        "\n",
        ">Rebuilding Calico took many years <a name=\"ref-1\"/>[(Kepps, 2002)](#cite-calicoww2:2).\n",
        "\n",
        "\n",
        "In addition, a cell would be added at the bottom with the following contents:\n",
        "\n",
        "\n",
        ">#References\n",
        "\n",
        "><a name=\"cite-calicoww2:2\"/><sup>[^](#ref-1) [^](#ref-2) </sup>Kepps, Milo . 2002. _Rebuilding Calico After Japanese Occupation_.\n",
        "\n"
      ],
      "id": "NoVitAOaHl4g"
    }
  ],
  "metadata": {
    "kernelspec": {
      "display_name": "Python 3 (ipykernel)",
      "language": "python",
      "name": "python3"
    },
    "language_info": {
      "codemirror_mode": {
        "name": "ipython",
        "version": 3
      },
      "file_extension": ".py",
      "mimetype": "text/x-python",
      "name": "python",
      "nbconvert_exporter": "python",
      "pygments_lexer": "ipython3",
      "version": "3.9.13"
    },
    "colab": {
      "provenance": [],
      "collapsed_sections": [
        "ul37AYXmwCT5",
        "wvEd8gEOCMbG",
        "EJgcPnII9jGu",
        "JtZxGEurFde8",
        "0bd5cJphFoYF",
        "hz0Le1owF-1V",
        "zw6rLPRAHl4d",
        "bPwdoxRTHl4d",
        "K8uZs8sVHl4d",
        "QsipSGc4Hl4d",
        "Y0ZeoAjbHl4e"
      ],
      "include_colab_link": true
    }
  },
  "nbformat": 4,
  "nbformat_minor": 5
}